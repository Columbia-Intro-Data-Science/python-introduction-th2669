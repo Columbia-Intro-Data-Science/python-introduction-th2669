{
 "cells": [
  {
   "cell_type": "markdown",
   "metadata": {
    "slideshow": {
     "slide_type": "slide"
    }
   },
   "source": [
    "# Project Proposal (Airline Delay Prediction)"
   ]
  },
  {
   "cell_type": "markdown",
   "metadata": {},
   "source": [
    "## APMA 4990 Introduction to Data Science Industry\n",
    "## By Tian Hang"
   ]
  },
  {
   "cell_type": "code",
   "execution_count": 2,
   "metadata": {
    "collapsed": false,
    "hide_input": true,
    "slideshow": {
     "slide_type": "skip"
    }
   },
   "outputs": [
    {
     "data": {
      "text/html": [
       "<img src=\"http://damhyul3s75yv.cloudfront.net/photos/11840/original_Is_EU_Compensation_Owed_When_the_US_Connecting_Flight_is_Delayed.jpg\"/>"
      ],
      "text/plain": [
       "<IPython.core.display.Image object>"
      ]
     },
     "execution_count": 2,
     "metadata": {},
     "output_type": "execute_result"
    }
   ],
   "source": [
    "from IPython.display import Image\n",
    "from IPython.core.display import HTML \n",
    "Image(url= \"http://damhyul3s75yv.cloudfront.net/photos/11840/original_Is_EU_Compensation_Owed_When_the_US_Connecting_Flight_is_Delayed.jpg\")"
   ]
  },
  {
   "cell_type": "markdown",
   "metadata": {},
   "source": [
    "## Tools will be used\n",
    "+ Python, Jupyter Notebook, Flask Web Development."
   ]
  },
  {
   "cell_type": "markdown",
   "metadata": {
    "collapsed": true
   },
   "source": [
    "## Description:\n",
    "+ Flight delay has become widespread in the United States. Nearly one quarter of all flights are delayed by more than 15 minutes. In the United States, the Federdal Aviation Administration has estimated the total cost for flight delay cost 22 billion yearly. Moreover, flight delay can also have indirect effect of lost labor productivity, an opportunity cost of time for travellers, and changes in consumer spending on travel and tourism goods and services.Thus, correctly prediecting flight delays can help airlines to response to potential causes of flight delays and allow travelers to prepare ahead for the further actions.Therefore, this project will build a supervised learning model that predicts airline delay from historical flight data and weather information."
   ]
  },
  {
   "cell_type": "markdown",
   "metadata": {
    "collapsed": true
   },
   "source": [
    "## Audience:\n",
    "+  Travelers, Aviation authorities and Airlines, People who are going to pick up the travelers."
   ]
  },
  {
   "cell_type": "markdown",
   "metadata": {
    "collapsed": true
   },
   "source": [
    "## Algorithms:\n",
    "+  Basic Statistical measurements\n",
    "+  Regression: Linear,Logistic\n",
    "+  Classification: Random Forest,Decision Trees\n",
    "+  Visualizing data: Plots"
   ]
  },
  {
   "cell_type": "markdown",
   "metadata": {},
   "source": [
    "## User Interface:\n",
    "+  The users can input their choices on the web application. The python code with machine learning algorithms will run to provide an information regarding whether the flight will be delayed, and how long it will be delayed. "
   ]
  },
  {
   "cell_type": "markdown",
   "metadata": {},
   "source": [
    "## Data Resourse:\n",
    "+  https://www.transtats.bts.gov/DL_SelectFields.asp?Table_ID=236 (Bureau of Transportation)\n",
    "+  http://openflights.org/data.html (Airport, Airline and Route Data)\n",
    "+  https://developer.flightstats.com/products (Depending on the cost?)\n"
   ]
  },
  {
   "cell_type": "markdown",
   "metadata": {},
   "source": [
    "## Reference:\n",
    "+  http://news.berkeley.edu/2010/10/18/flight_delays/\n",
    "+  https://www.bloomberg.com/news/articles/2016-08-23/blame-the-airlines-not-the-weather-for-most-u-s-flight-delays\n",
    "+  https://developer.ibm.com/clouddataservices/2016/08/04/predict-flight-delays-with-apache-spark-mllib-flightstats-and-weather-data/\n",
    "+  https://www.crowdanalytix.com/contests/predict-airline-delay-for-domestic-and-international-flights-in-us\n",
    "+  https://www.rita.dot.gov/bts/help/aviation/html/understanding.html"
   ]
  }
 ],
 "metadata": {
  "anaconda-cloud": {},
  "kernelspec": {
   "display_name": "Python [default]",
   "language": "python",
   "name": "python3"
  },
  "language_info": {
   "codemirror_mode": {
    "name": "ipython",
    "version": 3
   },
   "file_extension": ".py",
   "mimetype": "text/x-python",
   "name": "python",
   "nbconvert_exporter": "python",
   "pygments_lexer": "ipython3",
   "version": "3.5.2"
  }
 },
 "nbformat": 4,
 "nbformat_minor": 1
}

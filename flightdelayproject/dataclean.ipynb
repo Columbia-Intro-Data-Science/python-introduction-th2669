{
 "cells": [
  {
   "cell_type": "code",
   "execution_count": 7,
   "metadata": {
    "collapsed": false
   },
   "outputs": [
    {
     "data": {
      "text/plain": [
       "<bound method NDFrame.head of         DAY_OF_WEEK UNIQUE_CARRIER ORIGIN DEST  CRS_DEP_TIME  DEP_DELAY  \\\n",
       "0                 1             VX    DCA  SFO          1705        4.0   \n",
       "1                 1             VX    LAX  MCO           900       -1.0   \n",
       "2                 1             VX    MCO  LAX          1820      -11.0   \n",
       "3                 1             VX    FLL  LAX           705       -9.0   \n",
       "4                 1             VX    LAX  FLL           945       30.0   \n",
       "5                 1             VX    FLL  LAX          1859       20.0   \n",
       "6                 1             VX    LAX  FLL          2120       64.0   \n",
       "7                 1             VX    SFO  FLL           925       61.0   \n",
       "8                 1             VX    FLL  SFO          1855       60.0   \n",
       "9                 1             VX    SFO  JFK          2315       -3.0   \n",
       "10                1             VX    SFO  BOS           700        0.0   \n",
       "11                1             VX    BOS  SFO           725       -8.0   \n",
       "12                1             VX    SAN  SFO           700       15.0   \n",
       "13                1             VX    SFO  BOS           915       14.0   \n",
       "14                1             VX    BOS  SFO          1630        7.0   \n",
       "15                1             VX    BOS  SFO          1859       -1.0   \n",
       "16                1             VX    SFO  BOS          2130       -4.0   \n",
       "17                1             VX    LAX  BOS           815       -1.0   \n",
       "18                1             VX    BOS  LAX           900        8.0   \n",
       "19                1             VX    BOS  LAX          1120       -9.0   \n",
       "20                1             VX    LAX  BOS          1325       -2.0   \n",
       "21                1             VX    BOS  LAX          1745        9.0   \n",
       "22                1             VX    LAX  BOS          2315       12.0   \n",
       "23                1             VX    JFK  LAX           700       13.0   \n",
       "24                1             VX    LAX  JFK           725        NaN   \n",
       "25                1             VX    LAX  JFK          1050       14.0   \n",
       "26                1             VX    JFK  LAX           905        0.0   \n",
       "27                1             VX    JFK  LAX          1130       -3.0   \n",
       "28                1             VX    JFK  LAX          1300       -5.0   \n",
       "29                1             VX    LAX  JFK          1330        0.0   \n",
       "...             ...            ...    ...  ...           ...        ...   \n",
       "487607            7             AA    DCA  BOS          1730       -5.0   \n",
       "487608            7             AA    DCA  LGA          2200       33.0   \n",
       "487609            7             AA    BOS  LGA          1800        8.0   \n",
       "487610            7             AA    LGA  BOS          1600       -9.0   \n",
       "487611            7             AA    BOS  DCA          1600       -7.0   \n",
       "487612            7             AA    DCA  BOS          1330       -8.0   \n",
       "487613            7             AA    BOS  DCA          1900       -6.0   \n",
       "487614            7             AA    DCA  BOS          1630        0.0   \n",
       "487615            7             AA    BOS  LGA          1100       -5.0   \n",
       "487616            7             AA    BOS  DCA          1800       41.0   \n",
       "487617            7             AA    DCA  BOS          1530       35.0   \n",
       "487618            7             AA    LGA  BOS          2000       -2.0   \n",
       "487619            7             AA    BOS  DCA          1300       -5.0   \n",
       "487620            7             AA    DCA  BOS          1030        6.0   \n",
       "487621            7             AA    BOS  DCA          1000        1.0   \n",
       "487622            7             AA    DCA  LGA           900       -7.0   \n",
       "487623            7             AA    LGA  DCA          1100       -3.0   \n",
       "487624            7             AA    BOS  DCA          2100       -6.0   \n",
       "487625            7             AA    DCA  BOS          1830       -7.0   \n",
       "487626            7             AA    DCA  LGA          1130        6.0   \n",
       "487627            7             AA    LGA  DCA          1400       -1.0   \n",
       "487628            7             AA    BOS  LGA          1200       -5.0   \n",
       "487629            7             AA    DCA  BOS          2200       -7.0   \n",
       "487630            7             AA    BOS  DCA          1200       50.0   \n",
       "487631            7             AA    DCA  BOS           930       47.0   \n",
       "487632            7             AA    DCA  BOS          1930       16.0   \n",
       "487633            7             AA    BOS  DCA          1500       -3.0   \n",
       "487634            7             AA    DCA  BOS          1230       -4.0   \n",
       "487635            7             AA    DCA  LGA          1300       -6.0   \n",
       "487636            7             AA    LGA  DCA          1500        8.0   \n",
       "\n",
       "        ARR_TIME  ARR_DELAY  Unnamed: 8  \n",
       "0         2029.0       29.0         NaN  \n",
       "1         1640.0      -25.0         NaN  \n",
       "2         2026.0       -9.0         NaN  \n",
       "3          917.0       -8.0         NaN  \n",
       "4         1821.0       31.0         NaN  \n",
       "5         2159.0       34.0         NaN  \n",
       "6          618.0       53.0         NaN  \n",
       "7         1901.0       61.0         NaN  \n",
       "8         2243.0       53.0         NaN  \n",
       "9          742.0       -8.0         NaN  \n",
       "10        1530.0       -5.0         NaN  \n",
       "11        1038.0      -17.0         NaN  \n",
       "12         836.0       11.0         NaN  \n",
       "13        1806.0        1.0         NaN  \n",
       "14        2100.0       60.0         NaN  \n",
       "15        2224.0      -10.0         NaN  \n",
       "16         548.0      -22.0         NaN  \n",
       "17        1649.0       -1.0         NaN  \n",
       "18        1209.0       -6.0         NaN  \n",
       "19        1409.0      -26.0         NaN  \n",
       "20        2145.0      -10.0         NaN  \n",
       "21        2139.0       34.0         NaN  \n",
       "22         740.0       -4.0         NaN  \n",
       "23        1002.0        7.0         NaN  \n",
       "24           NaN        NaN         NaN  \n",
       "25        1917.0       -8.0         NaN  \n",
       "26        1205.0        5.0         NaN  \n",
       "27        1428.0        3.0         NaN  \n",
       "28        1533.0      -22.0         NaN  \n",
       "29        2200.0        0.0         NaN  \n",
       "...          ...        ...         ...  \n",
       "487607    1909.0        4.0         NaN  \n",
       "487608    2354.0       46.0         NaN  \n",
       "487609    1928.0        6.0         NaN  \n",
       "487610    1723.0        6.0         NaN  \n",
       "487611    1724.0       -9.0         NaN  \n",
       "487612    1443.0      -11.0         NaN  \n",
       "487613    2018.0      -20.0         NaN  \n",
       "487614    1758.0        0.0         NaN  \n",
       "487615    1230.0       18.0         NaN  \n",
       "487616    2016.0       32.0         NaN  \n",
       "487617    1805.0       65.0         NaN  \n",
       "487618    2119.0        5.0         NaN  \n",
       "487619    1503.0       26.0         NaN  \n",
       "487620    1207.0        7.0         NaN  \n",
       "487621    1138.0       11.0         NaN  \n",
       "487622    1016.0      -10.0         NaN  \n",
       "487623    1215.0       -5.0         NaN  \n",
       "487624    2223.0      -14.0         NaN  \n",
       "487625    1944.0      -18.0         NaN  \n",
       "487626    1243.0       -3.0         NaN  \n",
       "487627    1519.0       -2.0         NaN  \n",
       "487628    1326.0       10.0         NaN  \n",
       "487629    2313.0      -12.0         NaN  \n",
       "487630    1436.0       66.0         NaN  \n",
       "487631    1201.0       65.0         NaN  \n",
       "487632    2115.0       16.0         NaN  \n",
       "487633    1643.0        5.0         NaN  \n",
       "487634    1348.0       -6.0         NaN  \n",
       "487635    1437.0       15.0         NaN  \n",
       "487636    1634.0        9.0         NaN  \n",
       "\n",
       "[487637 rows x 9 columns]>"
      ]
     },
     "execution_count": 7,
     "metadata": {},
     "output_type": "execute_result"
    }
   ],
   "source": [
    "import pandas as pd\n",
    "import numpy as np\n",
    "import seaborn as sns\n",
    "import matplotlib.pyplot as plt\n",
    "from sklearn.externals import joblib\n",
    "\n",
    "\n",
    "df = pd.read_csv('../python-introduction-th2669/juneflights.csv')\n",
    "df.head"
   ]
  },
  {
   "cell_type": "code",
   "execution_count": 8,
   "metadata": {
    "collapsed": true
   },
   "outputs": [],
   "source": [
    "df.drop(['Unnamed: 8'],axis=1,inplace=True)\n",
    "df.dropna(subset = ['UNIQUE_CARRIER','ORIGIN','DEST','CRS_DEP_TIME','DEP_DELAY','ARR_TIME','ARR_DELAY'],inplace=True)"
   ]
  },
  {
   "cell_type": "code",
   "execution_count": 9,
   "metadata": {
    "collapsed": true
   },
   "outputs": [],
   "source": [
    "#Get the Departure and Arrival Hours\n",
    "#For DEP_HOUR, take the CRS_DEP_TIME\n",
    "df['DEP_HOUR'] = df['CRS_DEP_TIME'].apply(lambda x:int(str(x)[:2]) if x>999 else int(str(x)[:1] if x>99 else 0))\n",
    "#For ARR_HOUR, take the actual arrival time\n",
    "df['ARR_HOUR'] = df['ARR_TIME'].apply(lambda x:int(str(x)[:2]) if x>999 else int(str(x)[:1] if x>99 else 0))\n",
    "df['ARR_HOUR'] = df['ARR_HOUR'].apply(lambda x:0 if x==24 else x)"
   ]
  },
  {
   "cell_type": "code",
   "execution_count": 10,
   "metadata": {
    "collapsed": false
   },
   "outputs": [
    {
     "data": {
      "text/plain": [
       "<bound method NDFrame.head of         DAY_OF_WEEK UNIQUE_CARRIER ORIGIN DEST  CRS_DEP_TIME  DEP_DELAY  \\\n",
       "0                 1             VX    DCA  SFO          1705        4.0   \n",
       "1                 1             VX    LAX  MCO           900       -1.0   \n",
       "2                 1             VX    MCO  LAX          1820      -11.0   \n",
       "3                 1             VX    FLL  LAX           705       -9.0   \n",
       "4                 1             VX    LAX  FLL           945       30.0   \n",
       "5                 1             VX    FLL  LAX          1859       20.0   \n",
       "6                 1             VX    LAX  FLL          2120       64.0   \n",
       "7                 1             VX    SFO  FLL           925       61.0   \n",
       "8                 1             VX    FLL  SFO          1855       60.0   \n",
       "9                 1             VX    SFO  JFK          2315       -3.0   \n",
       "10                1             VX    SFO  BOS           700        0.0   \n",
       "11                1             VX    BOS  SFO           725       -8.0   \n",
       "12                1             VX    SAN  SFO           700       15.0   \n",
       "13                1             VX    SFO  BOS           915       14.0   \n",
       "14                1             VX    BOS  SFO          1630        7.0   \n",
       "15                1             VX    BOS  SFO          1859       -1.0   \n",
       "16                1             VX    SFO  BOS          2130       -4.0   \n",
       "17                1             VX    LAX  BOS           815       -1.0   \n",
       "18                1             VX    BOS  LAX           900        8.0   \n",
       "19                1             VX    BOS  LAX          1120       -9.0   \n",
       "20                1             VX    LAX  BOS          1325       -2.0   \n",
       "21                1             VX    BOS  LAX          1745        9.0   \n",
       "22                1             VX    LAX  BOS          2315       12.0   \n",
       "23                1             VX    JFK  LAX           700       13.0   \n",
       "25                1             VX    LAX  JFK          1050       14.0   \n",
       "26                1             VX    JFK  LAX           905        0.0   \n",
       "27                1             VX    JFK  LAX          1130       -3.0   \n",
       "28                1             VX    JFK  LAX          1300       -5.0   \n",
       "29                1             VX    LAX  JFK          1330        0.0   \n",
       "31                1             VX    JFK  LAX          2020       -4.0   \n",
       "...             ...            ...    ...  ...           ...        ...   \n",
       "487607            7             AA    DCA  BOS          1730       -5.0   \n",
       "487608            7             AA    DCA  LGA          2200       33.0   \n",
       "487609            7             AA    BOS  LGA          1800        8.0   \n",
       "487610            7             AA    LGA  BOS          1600       -9.0   \n",
       "487611            7             AA    BOS  DCA          1600       -7.0   \n",
       "487612            7             AA    DCA  BOS          1330       -8.0   \n",
       "487613            7             AA    BOS  DCA          1900       -6.0   \n",
       "487614            7             AA    DCA  BOS          1630        0.0   \n",
       "487615            7             AA    BOS  LGA          1100       -5.0   \n",
       "487616            7             AA    BOS  DCA          1800       41.0   \n",
       "487617            7             AA    DCA  BOS          1530       35.0   \n",
       "487618            7             AA    LGA  BOS          2000       -2.0   \n",
       "487619            7             AA    BOS  DCA          1300       -5.0   \n",
       "487620            7             AA    DCA  BOS          1030        6.0   \n",
       "487621            7             AA    BOS  DCA          1000        1.0   \n",
       "487622            7             AA    DCA  LGA           900       -7.0   \n",
       "487623            7             AA    LGA  DCA          1100       -3.0   \n",
       "487624            7             AA    BOS  DCA          2100       -6.0   \n",
       "487625            7             AA    DCA  BOS          1830       -7.0   \n",
       "487626            7             AA    DCA  LGA          1130        6.0   \n",
       "487627            7             AA    LGA  DCA          1400       -1.0   \n",
       "487628            7             AA    BOS  LGA          1200       -5.0   \n",
       "487629            7             AA    DCA  BOS          2200       -7.0   \n",
       "487630            7             AA    BOS  DCA          1200       50.0   \n",
       "487631            7             AA    DCA  BOS           930       47.0   \n",
       "487632            7             AA    DCA  BOS          1930       16.0   \n",
       "487633            7             AA    BOS  DCA          1500       -3.0   \n",
       "487634            7             AA    DCA  BOS          1230       -4.0   \n",
       "487635            7             AA    DCA  LGA          1300       -6.0   \n",
       "487636            7             AA    LGA  DCA          1500        8.0   \n",
       "\n",
       "        ARR_TIME  ARR_DELAY  DEP_HOUR  ARR_HOUR  \n",
       "0         2029.0       29.0        17        20  \n",
       "1         1640.0      -25.0         9        16  \n",
       "2         2026.0       -9.0        18        20  \n",
       "3          917.0       -8.0         7         9  \n",
       "4         1821.0       31.0         9        18  \n",
       "5         2159.0       34.0        18        21  \n",
       "6          618.0       53.0        21         6  \n",
       "7         1901.0       61.0         9        19  \n",
       "8         2243.0       53.0        18        22  \n",
       "9          742.0       -8.0        23         7  \n",
       "10        1530.0       -5.0         7        15  \n",
       "11        1038.0      -17.0         7        10  \n",
       "12         836.0       11.0         7         8  \n",
       "13        1806.0        1.0         9        18  \n",
       "14        2100.0       60.0        16        21  \n",
       "15        2224.0      -10.0        18        22  \n",
       "16         548.0      -22.0        21         5  \n",
       "17        1649.0       -1.0         8        16  \n",
       "18        1209.0       -6.0         9        12  \n",
       "19        1409.0      -26.0        11        14  \n",
       "20        2145.0      -10.0        13        21  \n",
       "21        2139.0       34.0        17        21  \n",
       "22         740.0       -4.0        23         7  \n",
       "23        1002.0        7.0         7        10  \n",
       "25        1917.0       -8.0        10        19  \n",
       "26        1205.0        5.0         9        12  \n",
       "27        1428.0        3.0        11        14  \n",
       "28        1533.0      -22.0        13        15  \n",
       "29        2200.0        0.0        13        22  \n",
       "31        2327.0        2.0        20        23  \n",
       "...          ...        ...       ...       ...  \n",
       "487607    1909.0        4.0        17        19  \n",
       "487608    2354.0       46.0        22        23  \n",
       "487609    1928.0        6.0        18        19  \n",
       "487610    1723.0        6.0        16        17  \n",
       "487611    1724.0       -9.0        16        17  \n",
       "487612    1443.0      -11.0        13        14  \n",
       "487613    2018.0      -20.0        19        20  \n",
       "487614    1758.0        0.0        16        17  \n",
       "487615    1230.0       18.0        11        12  \n",
       "487616    2016.0       32.0        18        20  \n",
       "487617    1805.0       65.0        15        18  \n",
       "487618    2119.0        5.0        20        21  \n",
       "487619    1503.0       26.0        13        15  \n",
       "487620    1207.0        7.0        10        12  \n",
       "487621    1138.0       11.0        10        11  \n",
       "487622    1016.0      -10.0         9        10  \n",
       "487623    1215.0       -5.0        11        12  \n",
       "487624    2223.0      -14.0        21        22  \n",
       "487625    1944.0      -18.0        18        19  \n",
       "487626    1243.0       -3.0        11        12  \n",
       "487627    1519.0       -2.0        14        15  \n",
       "487628    1326.0       10.0        12        13  \n",
       "487629    2313.0      -12.0        22        23  \n",
       "487630    1436.0       66.0        12        14  \n",
       "487631    1201.0       65.0         9        12  \n",
       "487632    2115.0       16.0        19        21  \n",
       "487633    1643.0        5.0        15        16  \n",
       "487634    1348.0       -6.0        12        13  \n",
       "487635    1437.0       15.0        13        14  \n",
       "487636    1634.0        9.0        15        16  \n",
       "\n",
       "[480916 rows x 10 columns]>"
      ]
     },
     "execution_count": 10,
     "metadata": {},
     "output_type": "execute_result"
    }
   ],
   "source": [
    "df.head"
   ]
  },
  {
   "cell_type": "code",
   "execution_count": 11,
   "metadata": {
    "collapsed": true
   },
   "outputs": [],
   "source": [
    "df.drop(['CRS_DEP_TIME','ARR_TIME','ARR_DELAY'],axis=1, inplace=True)"
   ]
  },
  {
   "cell_type": "code",
   "execution_count": 12,
   "metadata": {
    "collapsed": false
   },
   "outputs": [
    {
     "name": "stdout",
     "output_type": "stream",
     "text": [
      "1.7722740173339844\n"
     ]
    }
   ],
   "source": [
    "import time\n",
    "#Save the Dataframe as .csv file\n",
    "tic = time.time()\n",
    "df.to_csv('juneairline_data2.csv',index=False)\n",
    "toc = time.time()\n",
    "print(toc-tic)"
   ]
  },
  {
   "cell_type": "code",
   "execution_count": null,
   "metadata": {
    "collapsed": true
   },
   "outputs": [],
   "source": []
  },
  {
   "cell_type": "code",
   "execution_count": null,
   "metadata": {
    "collapsed": true
   },
   "outputs": [],
   "source": []
  },
  {
   "cell_type": "code",
   "execution_count": null,
   "metadata": {
    "collapsed": true
   },
   "outputs": [],
   "source": []
  },
  {
   "cell_type": "code",
   "execution_count": null,
   "metadata": {
    "collapsed": false
   },
   "outputs": [],
   "source": []
  },
  {
   "cell_type": "code",
   "execution_count": null,
   "metadata": {
    "collapsed": true
   },
   "outputs": [],
   "source": []
  },
  {
   "cell_type": "code",
   "execution_count": null,
   "metadata": {
    "collapsed": true
   },
   "outputs": [],
   "source": []
  }
 ],
 "metadata": {
  "anaconda-cloud": {},
  "kernelspec": {
   "display_name": "Python [default]",
   "language": "python",
   "name": "python3"
  },
  "language_info": {
   "codemirror_mode": {
    "name": "ipython",
    "version": 3
   },
   "file_extension": ".py",
   "mimetype": "text/x-python",
   "name": "python",
   "nbconvert_exporter": "python",
   "pygments_lexer": "ipython3",
   "version": "3.5.2"
  }
 },
 "nbformat": 4,
 "nbformat_minor": 1
}

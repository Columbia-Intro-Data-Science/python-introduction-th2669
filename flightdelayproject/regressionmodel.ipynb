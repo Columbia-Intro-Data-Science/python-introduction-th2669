{
 "cells": [
  {
   "cell_type": "markdown",
   "metadata": {},
   "source": [
    "# Regression Model \n",
    "\n",
    "## Predicting how long it will be delayed"
   ]
  },
  {
   "cell_type": "markdown",
   "metadata": {},
   "source": [
    "### Arrival Delay Prediction"
   ]
  },
  {
   "cell_type": "code",
   "execution_count": 1,
   "metadata": {
    "collapsed": false
   },
   "outputs": [
    {
     "name": "stdout",
     "output_type": "stream",
     "text": [
      "Finished reading CSV file in 0.28578996658325195 seconds\n"
     ]
    },
    {
     "data": {
      "text/html": [
       "<div>\n",
       "<table border=\"1\" class=\"dataframe\">\n",
       "  <thead>\n",
       "    <tr style=\"text-align: right;\">\n",
       "      <th></th>\n",
       "      <th>DAY_OF_WEEK</th>\n",
       "      <th>UNIQUE_CARRIER</th>\n",
       "      <th>ORIGIN</th>\n",
       "      <th>DEST</th>\n",
       "      <th>ARR_DELAY</th>\n",
       "      <th>DEP_HOUR</th>\n",
       "      <th>ARR_HOUR</th>\n",
       "    </tr>\n",
       "  </thead>\n",
       "  <tbody>\n",
       "    <tr>\n",
       "      <th>0</th>\n",
       "      <td>1</td>\n",
       "      <td>VX</td>\n",
       "      <td>DCA</td>\n",
       "      <td>SFO</td>\n",
       "      <td>29.0</td>\n",
       "      <td>17</td>\n",
       "      <td>20</td>\n",
       "    </tr>\n",
       "    <tr>\n",
       "      <th>1</th>\n",
       "      <td>1</td>\n",
       "      <td>VX</td>\n",
       "      <td>LAX</td>\n",
       "      <td>MCO</td>\n",
       "      <td>-25.0</td>\n",
       "      <td>9</td>\n",
       "      <td>16</td>\n",
       "    </tr>\n",
       "    <tr>\n",
       "      <th>2</th>\n",
       "      <td>1</td>\n",
       "      <td>VX</td>\n",
       "      <td>MCO</td>\n",
       "      <td>LAX</td>\n",
       "      <td>-9.0</td>\n",
       "      <td>18</td>\n",
       "      <td>20</td>\n",
       "    </tr>\n",
       "    <tr>\n",
       "      <th>3</th>\n",
       "      <td>1</td>\n",
       "      <td>VX</td>\n",
       "      <td>FLL</td>\n",
       "      <td>LAX</td>\n",
       "      <td>-8.0</td>\n",
       "      <td>7</td>\n",
       "      <td>9</td>\n",
       "    </tr>\n",
       "    <tr>\n",
       "      <th>4</th>\n",
       "      <td>1</td>\n",
       "      <td>VX</td>\n",
       "      <td>LAX</td>\n",
       "      <td>FLL</td>\n",
       "      <td>31.0</td>\n",
       "      <td>9</td>\n",
       "      <td>18</td>\n",
       "    </tr>\n",
       "  </tbody>\n",
       "</table>\n",
       "</div>"
      ],
      "text/plain": [
       "   DAY_OF_WEEK UNIQUE_CARRIER ORIGIN DEST  ARR_DELAY  DEP_HOUR  ARR_HOUR\n",
       "0            1             VX    DCA  SFO       29.0        17        20\n",
       "1            1             VX    LAX  MCO      -25.0         9        16\n",
       "2            1             VX    MCO  LAX       -9.0        18        20\n",
       "3            1             VX    FLL  LAX       -8.0         7         9\n",
       "4            1             VX    LAX  FLL       31.0         9        18"
      ]
     },
     "execution_count": 1,
     "metadata": {},
     "output_type": "execute_result"
    }
   ],
   "source": [
    "import pandas as pd\n",
    "import numpy as np\n",
    "import time\n",
    "from sklearn.externals import joblib\n",
    "tic = time.time()\n",
    "df = pd.read_csv('../python-introduction-th2669/juneairline_data1.csv')\n",
    "toc = time.time()\n",
    "print(\"Finished reading CSV file in \" + str(toc-tic) + \" seconds\")\n",
    "df.head()\n"
   ]
  },
  {
   "cell_type": "code",
   "execution_count": 2,
   "metadata": {
    "collapsed": false
   },
   "outputs": [],
   "source": [
    "df = pd.concat([df,pd.get_dummies(df['UNIQUE_CARRIER'],drop_first=True,prefix=\"UNIQUE_CARRIER\")],axis=1)\n",
    "df = pd.concat([df,pd.get_dummies(df['ORIGIN'],drop_first=True,prefix=\"ORIGIN\")],axis=1)\n",
    "df = pd.concat([df,pd.get_dummies(df['DEST'],drop_first=True,prefix=\"DEST\")],axis=1)\n",
    "df = pd.concat([df,pd.get_dummies(df['DEP_HOUR'],drop_first=True,prefix=\"DEP_HOUR\")],axis=1)\n",
    "df = pd.concat([df,pd.get_dummies(df['ARR_HOUR'],drop_first=True,prefix=\"ARR_HOUR\")],axis=1)\n",
    "df = pd.concat([df,pd.get_dummies(df['DAY_OF_WEEK'],drop_first=True,prefix=\"DAY_OF_WEEK\")],axis=1)"
   ]
  },
  {
   "cell_type": "code",
   "execution_count": 3,
   "metadata": {
    "collapsed": true
   },
   "outputs": [],
   "source": [
    "df.drop(['DAY_OF_WEEK','UNIQUE_CARRIER','ORIGIN','DEST','DEP_HOUR','ARR_HOUR'],axis=1,inplace=True)\n"
   ]
  },
  {
   "cell_type": "code",
   "execution_count": 4,
   "metadata": {
    "collapsed": false
   },
   "outputs": [
    {
     "name": "stdout",
     "output_type": "stream",
     "text": [
      "-13.0\n",
      "10.0\n",
      "23.0\n",
      "-4.0\n"
     ]
    },
    {
     "data": {
      "text/plain": [
       "(480916, 672)"
      ]
     },
     "execution_count": 4,
     "metadata": {},
     "output_type": "execute_result"
    }
   ],
   "source": [
    "import statistics\n",
    "q75, q25 = np.percentile(df.ARR_DELAY, [75 ,25])\n",
    "iqr = q75 - q25\n",
    "\n",
    "z = statistics.median(df.ARR_DELAY)\n",
    "print(q25)\n",
    "print(q75)\n",
    "print(iqr)\n",
    "print(z)\n",
    "\n",
    "df = df[df.ARR_DELAY <= 69]\n",
    "df.shape"
   ]
  },
  {
   "cell_type": "code",
   "execution_count": 4,
   "metadata": {
    "collapsed": false
   },
   "outputs": [],
   "source": [
    "# Define X and y variables\n",
    "X = df.drop(['ARR_DELAY'], axis = 1)\n",
    "y = df['ARR_DELAY']"
   ]
  },
  {
   "cell_type": "code",
   "execution_count": 8,
   "metadata": {
    "collapsed": false
   },
   "outputs": [
    {
     "name": "stdout",
     "output_type": "stream",
     "text": [
      "Residual sum of squares: 324.77\n",
      "Variance score: 0.08\n"
     ]
    }
   ],
   "source": [
    "from sklearn.linear_model import LinearRegression\n",
    "from sklearn.model_selection import train_test_split\n",
    "from sklearn.linear_model import Ridge\n",
    "from sklearn.linear_model import Lasso\n",
    "\n",
    "\n",
    "X_train, X_test, y_train, y_test = train_test_split(X, y, test_size=0.30, random_state=42)\n",
    "\n",
    "y_test = np.array(y_test)\n",
    "y_train = np.array(y_train)\n",
    "# Create linear regression object\n",
    "\n",
    "\n",
    "lm = Ridge(alpha=10000)\n",
    "\n",
    "                                                \n",
    "# Train the model using the training sets\n",
    "lm.fit(X_train, np.array(y_train))\n",
    "\n",
    "\n",
    "# The mean square error\n",
    "print(\"Residual sum of squares: %.2f\"\n",
    "      % np.mean((lm.predict(X_test) - y_test) ** 2))\n",
    "# Explained variance score: 1 is perfect prediction\n",
    "print('Variance score: %.2f' % lm.score(X_test, y_test))\n",
    "\n",
    "\n"
   ]
  },
  {
   "cell_type": "code",
   "execution_count": 5,
   "metadata": {
    "collapsed": false
   },
   "outputs": [
    {
     "name": "stdout",
     "output_type": "stream",
     "text": [
      "Residual sum of squares: 837.97\n",
      "Variance score: 0.59\n"
     ]
    }
   ],
   "source": [
    "from sklearn.ensemble import RandomForestRegressor\n",
    "from sklearn.model_selection import train_test_split\n",
    "\n",
    "X_train, X_test, y_train, y_test = train_test_split(X, y, test_size=0.30, random_state=42)\n",
    "\n",
    "y_test = np.array(y_test)\n",
    "y_train = np.array(y_train)\n",
    "\n",
    "                                                \n",
    "random_arr = RandomForestRegressor()\n",
    "\n",
    "                                                \n",
    "# Train the model using the training sets\n",
    "random_arr.fit(X_train,np.array(y_train))\n",
    "\n",
    "\n",
    "# The mean square error\n",
    "print(\"Residual sum of squares: %.2f\"\n",
    "      % np.mean((random_arr.predict(X_test) - y_test) ** 2))\n",
    "# Explained variance score: 1 is perfect prediction\n",
    "print('Variance score: %.2f' % random_arr.score(X_test, y_test))"
   ]
  },
  {
   "cell_type": "code",
   "execution_count": 6,
   "metadata": {
    "collapsed": true
   },
   "outputs": [],
   "source": [
    "import pickle\n",
    "\n",
    "with open('random_arr.pkl', 'wb') as fid:\n",
    "    pickle.dump(random_arr, fid,2)"
   ]
  },
  {
   "cell_type": "code",
   "execution_count": 14,
   "metadata": {
    "collapsed": false
   },
   "outputs": [
    {
     "name": "stdout",
     "output_type": "stream",
     "text": [
      "Residual sum of squares: 917.45\n",
      "Variance score: 0.56\n"
     ]
    }
   ],
   "source": [
    "# Fit regression model\n",
    "from sklearn.tree import DecisionTreeRegressor\n",
    "import pylab as plt\n",
    "from sklearn.model_selection import train_test_split\n",
    "X_train, X_test, y_train, y_test = train_test_split(\n",
    "    X, y, test_size=0.2, random_state=42)\n",
    "\n",
    "y_test = np.array(y_test)\n",
    "y_train = np.array(y_train)\n",
    "\n",
    "scores=[]\n",
    "decisiontree_arr = DecisionTreeRegressor(max_depth=77)\n",
    "# Train the model using the training sets\n",
    "decisiontree_arr.fit(X_train, np.array(y_train))\n",
    "scores.append(decisiontree_arr.score(X_test,y_test))\n",
    "#plt.ylabel('R^2')\n",
    "#plt.xlabel('Depth')\n",
    "#plt.plot(75,scores)\n",
    "#plt.show()\n",
    "\n",
    "# The mean square error\n",
    "print(\"Residual sum of squares: %.2f\"\n",
    "      % np.mean((decisiontree_arr.predict(X_test) - y_test) ** 2))\n",
    "# Explained variance score: 1 is perfect prediction\n",
    "print('Variance score: %.2f' % decisiontree_arr.score(X_test, y_test))\n",
    "\n"
   ]
  },
  {
   "cell_type": "code",
   "execution_count": 6,
   "metadata": {
    "collapsed": false
   },
   "outputs": [],
   "source": [
    "from sklearn.tree import DecisionTreeRegressor\n",
    "import numpy.random as nprnd\n",
    "import pylab as plt\n",
    "import random\n",
    "import seaborn\n",
    "from sklearn.model_selection import train_test_split\n",
    "X_train, X_test, y_train, y_test = train_test_split(\n",
    "    X, y, test_size=0.2, random_state=42)\n",
    "train_errors=[]\n",
    "test_errors=[]\n",
    "scores=[]\n",
    "depths = range(60,80)\n",
    "for n in depths:\n",
    "    regr = DecisionTreeRegressor(max_depth=n)\n",
    "    # Train the model using the training sets\n",
    "    regr.fit(X_train, y_train)\n",
    "    train_errors.append(regr.score(X_train,y_train))\n",
    "    scores.append(regr.score(X_test,y_test))\n",
    "plt.ylabel('R^2')\n",
    "plt.xlabel('Depth')\n",
    "plt.plot(depths,scores)\n",
    "test_errors=scores\n",
    "n_opt=depths[np.argmax(scores)]"
   ]
  },
  {
   "cell_type": "code",
   "execution_count": 12,
   "metadata": {
    "collapsed": false
   },
   "outputs": [
    {
     "data": {
      "image/png": "[encoded data removed]",
      "text/plain": [
       "<matplotlib.figure.Figure at 0x119530898>"
      ]
     },
     "metadata": {},
     "output_type": "display_data"
    }
   ],
   "source": [
    "plt.plot(depths,scores)\n",
    "plt.show()"
   ]
  },
  {
   "cell_type": "code",
   "execution_count": 13,
   "metadata": {
    "collapsed": false
   },
   "outputs": [
    {
     "name": "stdout",
     "output_type": "stream",
     "text": [
      "77\n"
     ]
    }
   ],
   "source": [
    "print(n_opt)"
   ]
  },
  {
   "cell_type": "code",
   "execution_count": 15,
   "metadata": {
    "collapsed": true
   },
   "outputs": [],
   "source": [
    "import pickle\n",
    "\n",
    "with open('decisiontree_arr.pkl', 'wb') as fid:\n",
    "    pickle.dump(decisiontree_arr, fid,2)"
   ]
  },
  {
   "cell_type": "markdown",
   "metadata": {
    "collapsed": false
   },
   "source": [
    "### Departure Delay Model"
   ]
  },
  {
   "cell_type": "markdown",
   "metadata": {},
   "source": [
    "### Using the same method"
   ]
  },
  {
   "cell_type": "code",
   "execution_count": 16,
   "metadata": {
    "collapsed": false
   },
   "outputs": [
    {
     "name": "stdout",
     "output_type": "stream",
     "text": [
      "Finished reading CSV file in 0.28768396377563477 seconds\n"
     ]
    },
    {
     "data": {
      "text/html": [
       "<div>\n",
       "<table border=\"1\" class=\"dataframe\">\n",
       "  <thead>\n",
       "    <tr style=\"text-align: right;\">\n",
       "      <th></th>\n",
       "      <th>DAY_OF_WEEK</th>\n",
       "      <th>UNIQUE_CARRIER</th>\n",
       "      <th>ORIGIN</th>\n",
       "      <th>DEST</th>\n",
       "      <th>DEP_DELAY</th>\n",
       "      <th>DEP_HOUR</th>\n",
       "      <th>ARR_HOUR</th>\n",
       "    </tr>\n",
       "  </thead>\n",
       "  <tbody>\n",
       "    <tr>\n",
       "      <th>0</th>\n",
       "      <td>1</td>\n",
       "      <td>VX</td>\n",
       "      <td>DCA</td>\n",
       "      <td>SFO</td>\n",
       "      <td>4.0</td>\n",
       "      <td>17</td>\n",
       "      <td>20</td>\n",
       "    </tr>\n",
       "    <tr>\n",
       "      <th>1</th>\n",
       "      <td>1</td>\n",
       "      <td>VX</td>\n",
       "      <td>LAX</td>\n",
       "      <td>MCO</td>\n",
       "      <td>-1.0</td>\n",
       "      <td>9</td>\n",
       "      <td>16</td>\n",
       "    </tr>\n",
       "    <tr>\n",
       "      <th>2</th>\n",
       "      <td>1</td>\n",
       "      <td>VX</td>\n",
       "      <td>MCO</td>\n",
       "      <td>LAX</td>\n",
       "      <td>-11.0</td>\n",
       "      <td>18</td>\n",
       "      <td>20</td>\n",
       "    </tr>\n",
       "    <tr>\n",
       "      <th>3</th>\n",
       "      <td>1</td>\n",
       "      <td>VX</td>\n",
       "      <td>FLL</td>\n",
       "      <td>LAX</td>\n",
       "      <td>-9.0</td>\n",
       "      <td>7</td>\n",
       "      <td>9</td>\n",
       "    </tr>\n",
       "    <tr>\n",
       "      <th>4</th>\n",
       "      <td>1</td>\n",
       "      <td>VX</td>\n",
       "      <td>LAX</td>\n",
       "      <td>FLL</td>\n",
       "      <td>30.0</td>\n",
       "      <td>9</td>\n",
       "      <td>18</td>\n",
       "    </tr>\n",
       "  </tbody>\n",
       "</table>\n",
       "</div>"
      ],
      "text/plain": [
       "   DAY_OF_WEEK UNIQUE_CARRIER ORIGIN DEST  DEP_DELAY  DEP_HOUR  ARR_HOUR\n",
       "0            1             VX    DCA  SFO        4.0        17        20\n",
       "1            1             VX    LAX  MCO       -1.0         9        16\n",
       "2            1             VX    MCO  LAX      -11.0        18        20\n",
       "3            1             VX    FLL  LAX       -9.0         7         9\n",
       "4            1             VX    LAX  FLL       30.0         9        18"
      ]
     },
     "execution_count": 16,
     "metadata": {},
     "output_type": "execute_result"
    }
   ],
   "source": [
    "import pandas as pd\n",
    "import numpy as np\n",
    "import time\n",
    "from sklearn.externals import joblib\n",
    "tic = time.time()\n",
    "df = pd.read_csv('../python-introduction-th2669/juneairline_data2.csv')\n",
    "toc = time.time()\n",
    "print(\"Finished reading CSV file in \" + str(toc-tic) + \" seconds\")\n",
    "df.head()\n"
   ]
  },
  {
   "cell_type": "code",
   "execution_count": 17,
   "metadata": {
    "collapsed": true
   },
   "outputs": [],
   "source": [
    "df = pd.concat([df,pd.get_dummies(df['UNIQUE_CARRIER'],drop_first=True,prefix=\"UNIQUE_CARRIER\")],axis=1)\n",
    "df = pd.concat([df,pd.get_dummies(df['ORIGIN'],drop_first=True,prefix=\"ORIGIN\")],axis=1)\n",
    "df = pd.concat([df,pd.get_dummies(df['DEST'],drop_first=True,prefix=\"DEST\")],axis=1)\n",
    "df = pd.concat([df,pd.get_dummies(df['DEP_HOUR'],drop_first=True,prefix=\"DEP_HOUR\")],axis=1)\n",
    "df = pd.concat([df,pd.get_dummies(df['ARR_HOUR'],drop_first=True,prefix=\"ARR_HOUR\")],axis=1)\n",
    "df = pd.concat([df,pd.get_dummies(df['DAY_OF_WEEK'],drop_first=True,prefix=\"DAY_OF_WEEK\")],axis=1)"
   ]
  },
  {
   "cell_type": "code",
   "execution_count": 18,
   "metadata": {
    "collapsed": true
   },
   "outputs": [],
   "source": [
    "df.drop(['DAY_OF_WEEK','UNIQUE_CARRIER','ORIGIN','DEST','DEP_HOUR','ARR_HOUR'],axis=1,inplace=True)"
   ]
  },
  {
   "cell_type": "code",
   "execution_count": 19,
   "metadata": {
    "collapsed": true
   },
   "outputs": [],
   "source": [
    "# Define X and y variables\n",
    "X = df.drop(['DEP_DELAY'], axis = 1)\n",
    "y = df['DEP_DELAY']"
   ]
  },
  {
   "cell_type": "code",
   "execution_count": 27,
   "metadata": {
    "collapsed": false
   },
   "outputs": [
    {
     "name": "stdout",
     "output_type": "stream",
     "text": [
      "Residual sum of squares: 725.06\n",
      "Variance score: 0.60\n"
     ]
    }
   ],
   "source": [
    "from sklearn.ensemble import RandomForestRegressor\n",
    "from sklearn.model_selection import train_test_split\n",
    "\n",
    "X_train, X_test, y_train, y_test = train_test_split(X, y, test_size=0.30, random_state=42)\n",
    "\n",
    "y_test = np.array(y_test)\n",
    "y_train = np.array(y_train)\n",
    "                                                \n",
    "random_dep = RandomForestRegressor()\n",
    "\n",
    "                                                \n",
    "# Train the model using the training sets\n",
    "random_dep.fit(X_train,np.array(y_train))\n",
    "\n",
    "\n",
    "# The mean square error\n",
    "print(\"Residual sum of squares: %.2f\"\n",
    "      % np.mean((random_dep.predict(X_test) - y_test) ** 2))\n",
    "# Explained variance score: 1 is perfect prediction\n",
    "print('Variance score: %.2f' % random_dep.score(X_test, y_test))"
   ]
  },
  {
   "cell_type": "code",
   "execution_count": 21,
   "metadata": {
    "collapsed": false
   },
   "outputs": [
    {
     "name": "stdout",
     "output_type": "stream",
     "text": [
      "Residual sum of squares: 879.53\n",
      "Variance score: 0.53\n"
     ]
    }
   ],
   "source": [
    "# Fit regression model\n",
    "from sklearn.tree import DecisionTreeRegressor\n",
    "import pylab as plt\n",
    "from sklearn.model_selection import train_test_split\n",
    "X_train, X_test, y_train, y_test = train_test_split(\n",
    "    X, y, test_size=0.2, random_state=42)\n",
    "\n",
    "y_test = np.array(y_test)\n",
    "y_train = np.array(y_train)\n",
    "\n",
    "scores=[]\n",
    "decisiontree_dep = DecisionTreeRegressor(max_depth=77)\n",
    "# Train the model using the training sets\n",
    "decisiontree_dep.fit(X_train, np.array(y_train))\n",
    "scores.append(decisiontree_dep.score(X_test,y_test))\n",
    "#plt.ylabel('R^2')\n",
    "#plt.xlabel('Depth')\n",
    "#plt.plot(75,scores)\n",
    "#plt.show()\n",
    "\n",
    "# The mean square error\n",
    "print(\"Residual sum of squares: %.2f\"\n",
    "      % np.mean((decisiontree_dep.predict(X_test) - y_test) ** 2))\n",
    "# Explained variance score: 1 is perfect prediction\n",
    "print('Variance score: %.2f' % decisiontree_dep.score(X_test, y_test))"
   ]
  },
  {
   "cell_type": "code",
   "execution_count": 22,
   "metadata": {
    "collapsed": true
   },
   "outputs": [],
   "source": [
    "import pickle\n",
    "\n",
    "with open('decisiontree_dep.pkl', 'wb') as fid:\n",
    "    pickle.dump(decisiontree_dep, fid,2)"
   ]
  },
  {
   "cell_type": "code",
   "execution_count": null,
   "metadata": {
    "collapsed": true
   },
   "outputs": [],
   "source": []
  }
 ],
 "metadata": {
  "anaconda-cloud": {},
  "kernelspec": {
   "display_name": "Python [conda root]",
   "language": "python",
   "name": "conda-root-py"
  },
  "language_info": {
   "codemirror_mode": {
    "name": "ipython",
    "version": 3
   },
   "file_extension": ".py",
   "mimetype": "text/x-python",
   "name": "python",
   "nbconvert_exporter": "python",
   "pygments_lexer": "ipython3",
   "version": "3.5.2"
  }
 },
 "nbformat": 4,
 "nbformat_minor": 1
}
